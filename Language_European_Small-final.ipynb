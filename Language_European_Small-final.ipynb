{
 "cells": [
  {
   "cell_type": "markdown",
   "metadata": {},
   "source": [
    "# European Language Detection: "
   ]
  },
  {
   "cell_type": "markdown",
   "metadata": {},
   "source": [
    "# PROBLEM:"
   ]
  },
  {
   "cell_type": "markdown",
   "metadata": {},
   "source": [
    "There are 21 European languages in the dataset, http://www.statmt.org/europarl/. The Europarl parallel corpus is extracted from the proceedings of the European Parliament. It includes versions in 21 European languages: Romanic (French, Italian, Spanish, Portuguese, Romanian), Germanic (English, Dutch, German, Danish, Swedish), Slavik (Bulgarian, Czech, Polish, Slovak, Slovene), Finni-Ugric (Finnish, Hungarian, Estonian), Baltic (Latvian, Lithuanian), and Greek.\n",
    "The goal of the problem is to detect among 21 languages in the European Union and its a classic Machine learning multi label classification. The dataset is the 5GBcorpus where each text file has a Chapter ID and Speaker ID."
   ]
  },
  {
   "cell_type": "markdown",
   "metadata": {},
   "source": [
    "# Pre Processing:"
   ]
  },
  {
   "cell_type": "markdown",
   "metadata": {},
   "source": [
    "The dataset on extracting has 21 seperate folders each belonging to one of the languages mentioned above. Each language folder has 1000's of text files, each a conversation in the parliament. Now, we need to have a way to combine all the text files into one and then together input it to the model. \n",
    "\n",
    "The load_data_files.py shows how to combine all of the files for the model. On the other hand running it on a local computer is taxing and hence the Language_European_Small-final notebook helps to make a smaller dataset out of it. This smaller dataset is achieved by randomly shuffling all the text files and selecting an approximate of 1000 to 3000 files per language based on the size."
   ]
  },
  {
   "cell_type": "code",
   "execution_count": 1,
   "metadata": {
    "collapsed": false
   },
   "outputs": [],
   "source": [
    "import codecs\n",
    "import glob as g\n",
    "import pandas as pd\n",
    "import os\n",
    "pd_dict={}\n",
    "#os.path.basename(path)\n",
    "#path=\"C:/Users/Sathvik/Desktop/DS/NLP_TEXT/\"\n",
    "get_dir1=g.glob('C:/Users/Sathvik/Desktop/DS/NLP_TEXT_SMALL/*')\n",
    "a=len(get_dir1)\n",
    "for k in range(0,a):\n",
    "    with codecs.open(get_dir1[k],encoding=\"utf-8\") as f:\n",
    "            pd_dict[os.path.basename(get_dir1[k])]=f.read()\n",
    "        "
   ]
  },
  {
   "cell_type": "markdown",
   "metadata": {},
   "source": [
    "Once we have the dataset up and running, Pandas is one of the easier ways to mungle and manage the dataset and hence read the files and put it to a dataframe and the file names serve as the label names.\n"
   ]
  },
  {
   "cell_type": "code",
   "execution_count": 2,
   "metadata": {
    "collapsed": true
   },
   "outputs": [],
   "source": [
    " df=pd.DataFrame.from_dict(pd_dict,orient='index')"
   ]
  },
  {
   "cell_type": "code",
   "execution_count": 3,
   "metadata": {
    "collapsed": true
   },
   "outputs": [],
   "source": [
    "with codecs.open(\"C:/Users/Sathvik/Desktop/DS/DUMMY_NLP_SMALL/pl.txt\",encoding=\" iso-8859-1\") as f1:\n",
    "    df.loc[\"pl.txt\"]=f1.read()"
   ]
  },
  {
   "cell_type": "code",
   "execution_count": 4,
   "metadata": {
    "collapsed": false
   },
   "outputs": [
    {
     "data": {
      "text/html": [
       "<div>\n",
       "<table border=\"1\" class=\"dataframe\">\n",
       "  <thead>\n",
       "    <tr style=\"text-align: right;\">\n",
       "      <th></th>\n",
       "      <th>0</th>\n",
       "    </tr>\n",
       "  </thead>\n",
       "  <tbody>\n",
       "    <tr>\n",
       "      <th>bg.txt</th>\n",
       "      <td>&lt;CHAPTER ID=\"003\"&gt;\\nСъстав на Парламента: вж. ...</td>\n",
       "    </tr>\n",
       "    <tr>\n",
       "      <th>cs.txt</th>\n",
       "      <td>&lt;CHAPTER ID=\"003\"&gt;\\nSchválení zápisu z předcho...</td>\n",
       "    </tr>\n",
       "    <tr>\n",
       "      <th>da.txt</th>\n",
       "      <td>&lt;CHAPTER ID=1&gt;\\nGenoptagelse af sessionen\\n&lt;SP...</td>\n",
       "    </tr>\n",
       "    <tr>\n",
       "      <th>de.txt</th>\n",
       "      <td>&lt;CHAPTER ID=1&gt;\\nWiederaufnahme der Sitzungsper...</td>\n",
       "    </tr>\n",
       "    <tr>\n",
       "      <th>el.txt</th>\n",
       "      <td>&lt;CHAPTER ID=1&gt;\\nΕπαvάληψη της συvσδoυ\\n&lt;SPEAKE...</td>\n",
       "    </tr>\n",
       "  </tbody>\n",
       "</table>\n",
       "</div>"
      ],
      "text/plain": [
       "                                                        0\n",
       "bg.txt  <CHAPTER ID=\"003\">\\nСъстав на Парламента: вж. ...\n",
       "cs.txt  <CHAPTER ID=\"003\">\\nSchválení zápisu z předcho...\n",
       "da.txt  <CHAPTER ID=1>\\nGenoptagelse af sessionen\\n<SP...\n",
       "de.txt  <CHAPTER ID=1>\\nWiederaufnahme der Sitzungsper...\n",
       "el.txt  <CHAPTER ID=1>\\nΕπαvάληψη της συvσδoυ\\n<SPEAKE..."
      ]
     },
     "execution_count": 4,
     "metadata": {},
     "output_type": "execute_result"
    }
   ],
   "source": [
    "df.head()"
   ]
  },
  {
   "cell_type": "code",
   "execution_count": 5,
   "metadata": {
    "collapsed": true
   },
   "outputs": [],
   "source": [
    "df.columns=[\"Data\"]"
   ]
  },
  {
   "cell_type": "code",
   "execution_count": 6,
   "metadata": {
    "collapsed": false
   },
   "outputs": [],
   "source": [
    "df[\"Label\"]=df.index"
   ]
  },
  {
   "cell_type": "code",
   "execution_count": 7,
   "metadata": {
    "collapsed": false
   },
   "outputs": [],
   "source": [
    "df[\"Label\"]=df[\"Label\"].apply(lambda x: x.replace('.txt',''))"
   ]
  },
  {
   "cell_type": "code",
   "execution_count": 8,
   "metadata": {
    "collapsed": false
   },
   "outputs": [],
   "source": [
    "df.replace(to_replace='\\<.*?\\>',value=\"\",regex=True,inplace=True)"
   ]
  },
  {
   "cell_type": "code",
   "execution_count": 9,
   "metadata": {
    "collapsed": false
   },
   "outputs": [
    {
     "data": {
      "text/html": [
       "<div>\n",
       "<table border=\"1\" class=\"dataframe\">\n",
       "  <thead>\n",
       "    <tr style=\"text-align: right;\">\n",
       "      <th></th>\n",
       "      <th>Data</th>\n",
       "      <th>Label</th>\n",
       "    </tr>\n",
       "  </thead>\n",
       "  <tbody>\n",
       "    <tr>\n",
       "      <th>bg.txt</th>\n",
       "      <td>\\nСъстав на Парламента: вж. протоколи\\n,\\nОдоб...</td>\n",
       "      <td>bg</td>\n",
       "    </tr>\n",
       "    <tr>\n",
       "      <th>cs.txt</th>\n",
       "      <td>\\nSchválení zápisu z předchozího zasedání: viz...</td>\n",
       "      <td>cs</td>\n",
       "    </tr>\n",
       "    <tr>\n",
       "      <th>da.txt</th>\n",
       "      <td>\\nGenoptagelse af sessionen\\n\\nJeg erklærer Eu...</td>\n",
       "      <td>da</td>\n",
       "    </tr>\n",
       "    <tr>\n",
       "      <th>de.txt</th>\n",
       "      <td>\\nWiederaufnahme der Sitzungsperiode\\n\\nIch er...</td>\n",
       "      <td>de</td>\n",
       "    </tr>\n",
       "    <tr>\n",
       "      <th>el.txt</th>\n",
       "      <td>\\nΕπαvάληψη της συvσδoυ\\n\\nΚηρύσσω την επανάλη...</td>\n",
       "      <td>el</td>\n",
       "    </tr>\n",
       "  </tbody>\n",
       "</table>\n",
       "</div>"
      ],
      "text/plain": [
       "                                                     Data Label\n",
       "bg.txt  \\nСъстав на Парламента: вж. протоколи\\n,\\nОдоб...    bg\n",
       "cs.txt  \\nSchválení zápisu z předchozího zasedání: viz...    cs\n",
       "da.txt  \\nGenoptagelse af sessionen\\n\\nJeg erklærer Eu...    da\n",
       "de.txt  \\nWiederaufnahme der Sitzungsperiode\\n\\nIch er...    de\n",
       "el.txt  \\nΕπαvάληψη της συvσδoυ\\n\\nΚηρύσσω την επανάλη...    el"
      ]
     },
     "execution_count": 9,
     "metadata": {},
     "output_type": "execute_result"
    }
   ],
   "source": [
    "df.head()"
   ]
  },
  {
   "cell_type": "code",
   "execution_count": 10,
   "metadata": {
    "collapsed": true
   },
   "outputs": [],
   "source": [
    "import re\n",
    "def remove_strings(s):\n",
    "    s = s.replace(\"\\n\",\"\")\n",
    "    s=re.sub('\\d','',s)\n",
    "    s = s.translate ({ord(c): \"\" for c in \"!@#$%^&*()[]{};:,./<>?\\|`~-=_+\"})\n",
    "    return s"
   ]
  },
  {
   "cell_type": "code",
   "execution_count": 11,
   "metadata": {
    "collapsed": false
   },
   "outputs": [],
   "source": [
    "df[\"Data\"]=df[\"Data\"].apply(remove_strings)\n",
    "#df_test[\"Data\"]=df_test[\"Data\"].str.strip()"
   ]
  },
  {
   "cell_type": "markdown",
   "metadata": {},
   "source": [
    "As explained earlier each document has a CHAPTER ID and SPEAKER ID within the 'HTML' kind of tags and they pretty much don't add anything to the model and its important to remove them. \n",
    "There are many punctuation marks, symbols and numbers that are totally not necessary for the ML model to know, So let's remove them. \n"
   ]
  },
  {
   "cell_type": "code",
   "execution_count": 40,
   "metadata": {
    "collapsed": false
   },
   "outputs": [
    {
     "data": {
      "text/plain": [
       "bg.txt    Състав на Парламента вж протоколиОдобряване на...\n",
       "cs.txt    Schválení zápisu z předchozího zasedání viz zá...\n",
       "da.txt    Genoptagelse af sessionenJeg erklærer EuropaPa...\n",
       "de.txt    Wiederaufnahme der SitzungsperiodeIch erkläre ...\n",
       "el.txt    Επαvάληψη της συvσδoυΚηρύσσω την επανάληψη της...\n",
       "en.txt    Resumption of the sessionI declare resumed the...\n",
       "es.txt    Reanudación del período de sesionesDeclaro rea...\n",
       "et.txt    Eelmise istungi protokolli kinnitamine vaata p...\n",
       "fi.txt    Istuntokauden uudelleenavaaminen Julistan perj...\n",
       "fr.txt    Reprise de la sessionJe déclare reprise la ses...\n",
       "hu.txt    Az előző ülés jegyzőkönyvének elfogadása lásd ...\n",
       "it.txt    Ripresa della sessioneDichiaro ripresa la sess...\n",
       "lt.txt    Ankstesnio posėdžio protokolų tvirtinimas žr p...\n",
       "lv.txt    Iepriekšējās sēdes protokola apstiprināšana sk...\n",
       "nl.txt    Hervatting van de zittingIk verklaar de zittin...\n",
       "pt.txt    Reinício da sessãoDeclaro reaberta a sessão do...\n",
       "ro.txt    Componenţa Parlamentului a se vedea procesulve...\n",
       "sk.txt    Schválenie zápisnice z predchádzajúceho rokova...\n",
       "sl.txt    Sprejetje zapisnika predhodne seje glej zapisn...\n",
       "sv.txt    Återupptagande av sessionenJag förklarar Europ...\n",
       "pl.txt    Zatwierdzenie protokoÅu z poprzedniego posied...\n",
       "Name: Data, dtype: object"
      ]
     },
     "execution_count": 40,
     "metadata": {},
     "output_type": "execute_result"
    }
   ],
   "source": [
    "df[\"Data\"]"
   ]
  },
  {
   "cell_type": "code",
   "execution_count": 41,
   "metadata": {
    "collapsed": false
   },
   "outputs": [],
   "source": [
    "#with open('C:/Users/Sathvik/Desktop/DS/europarl-test/europarl_test.txt',encoding=\" utf-8\") as f2:\n",
    "#    lines = f2.readlines()"
   ]
  },
  {
   "cell_type": "code",
   "execution_count": 42,
   "metadata": {
    "collapsed": false
   },
   "outputs": [],
   "source": [
    "df_test=pd.read_csv('C:/Users/Sathvik/Desktop/DS/europarl-test/europarl_test.txt',encoding=\" utf-8\",sep='\\t',header=None) "
   ]
  },
  {
   "cell_type": "code",
   "execution_count": 43,
   "metadata": {
    "collapsed": false
   },
   "outputs": [],
   "source": [
    "df_test.columns=[\"Label_test\",\"Data_test\"]"
   ]
  },
  {
   "cell_type": "code",
   "execution_count": 44,
   "metadata": {
    "collapsed": false
   },
   "outputs": [],
   "source": [
    "df_test[\"Data_test\"]=df_test[\"Data_test\"].apply(remove_strings)"
   ]
  },
  {
   "cell_type": "code",
   "execution_count": 45,
   "metadata": {
    "collapsed": false
   },
   "outputs": [
    {
     "data": {
      "text/html": [
       "<div>\n",
       "<table border=\"1\" class=\"dataframe\">\n",
       "  <thead>\n",
       "    <tr style=\"text-align: right;\">\n",
       "      <th></th>\n",
       "      <th>Label_test</th>\n",
       "      <th>Data_test</th>\n",
       "    </tr>\n",
       "  </thead>\n",
       "  <tbody>\n",
       "    <tr>\n",
       "      <th>0</th>\n",
       "      <td>bg</td>\n",
       "      <td>Европа  не трябва да стартира нов конкурентен ...</td>\n",
       "    </tr>\n",
       "    <tr>\n",
       "      <th>1</th>\n",
       "      <td>bg</td>\n",
       "      <td>CS Найголямата несправедливост на сегашната об...</td>\n",
       "    </tr>\n",
       "    <tr>\n",
       "      <th>2</th>\n",
       "      <td>bg</td>\n",
       "      <td>DE Гжо председател гн член на Комисията по при...</td>\n",
       "    </tr>\n",
       "    <tr>\n",
       "      <th>3</th>\n",
       "      <td>bg</td>\n",
       "      <td>DE Гн председател бих искал да започна с комен...</td>\n",
       "    </tr>\n",
       "    <tr>\n",
       "      <th>4</th>\n",
       "      <td>bg</td>\n",
       "      <td>DE Гн председател въпросът за правата на човек...</td>\n",
       "    </tr>\n",
       "    <tr>\n",
       "      <th>5</th>\n",
       "      <td>bg</td>\n",
       "      <td>DE Гн председател гласувах в подкрепа на Комис...</td>\n",
       "    </tr>\n",
       "    <tr>\n",
       "      <th>6</th>\n",
       "      <td>bg</td>\n",
       "      <td>DE Гн председател госпожи и господа в каква по...</td>\n",
       "    </tr>\n",
       "    <tr>\n",
       "      <th>7</th>\n",
       "      <td>bg</td>\n",
       "      <td>DE Гн председател госпожи и господа неотдавна ...</td>\n",
       "    </tr>\n",
       "    <tr>\n",
       "      <th>8</th>\n",
       "      <td>bg</td>\n",
       "      <td>DE Гн председател след повече от  години колон...</td>\n",
       "    </tr>\n",
       "    <tr>\n",
       "      <th>9</th>\n",
       "      <td>bg</td>\n",
       "      <td>EN Благодаря Ви Сара за сериозното съдействие</td>\n",
       "    </tr>\n",
       "    <tr>\n",
       "      <th>10</th>\n",
       "      <td>bg</td>\n",
       "      <td>EN Благодаря на действащия председател за обст...</td>\n",
       "    </tr>\n",
       "    <tr>\n",
       "      <th>11</th>\n",
       "      <td>bg</td>\n",
       "      <td>EN Гжо председател на фона на световната иконо...</td>\n",
       "    </tr>\n",
       "    <tr>\n",
       "      <th>12</th>\n",
       "      <td>bg</td>\n",
       "      <td>EN Гжо председател няма никакъв проблем да отг...</td>\n",
       "    </tr>\n",
       "    <tr>\n",
       "      <th>13</th>\n",
       "      <td>bg</td>\n",
       "      <td>EN Гжо член на Комисията с каква неотложност и...</td>\n",
       "    </tr>\n",
       "    <tr>\n",
       "      <th>14</th>\n",
       "      <td>bg</td>\n",
       "      <td>EN Гн председател докладът за цените на хранит...</td>\n",
       "    </tr>\n",
       "    <tr>\n",
       "      <th>15</th>\n",
       "      <td>bg</td>\n",
       "      <td>EN Гн председател подкрепих този доклад тъй ка...</td>\n",
       "    </tr>\n",
       "    <tr>\n",
       "      <th>16</th>\n",
       "      <td>bg</td>\n",
       "      <td>EN Гн председател трябва да поправя гжа Joly в...</td>\n",
       "    </tr>\n",
       "    <tr>\n",
       "      <th>17</th>\n",
       "      <td>bg</td>\n",
       "      <td>ES Гжо председател ако ще се опитваме да разбе...</td>\n",
       "    </tr>\n",
       "    <tr>\n",
       "      <th>18</th>\n",
       "      <td>bg</td>\n",
       "      <td>ES Гн председател искам специално да поздравя ...</td>\n",
       "    </tr>\n",
       "    <tr>\n",
       "      <th>19</th>\n",
       "      <td>bg</td>\n",
       "      <td>FR Гжо председател всъщност не исках да говоря...</td>\n",
       "    </tr>\n",
       "    <tr>\n",
       "      <th>20</th>\n",
       "      <td>bg</td>\n",
       "      <td>FR Гн председател изправени сме пред два проблема</td>\n",
       "    </tr>\n",
       "    <tr>\n",
       "      <th>21</th>\n",
       "      <td>bg</td>\n",
       "      <td>GA Гн председател бих искал да кажа че разбира...</td>\n",
       "    </tr>\n",
       "    <tr>\n",
       "      <th>22</th>\n",
       "      <td>bg</td>\n",
       "      <td>IT Гжо председател госпожи и господа и аз като...</td>\n",
       "    </tr>\n",
       "    <tr>\n",
       "      <th>23</th>\n",
       "      <td>bg</td>\n",
       "      <td>IT Гжо председател госпожи и господа неотдавна...</td>\n",
       "    </tr>\n",
       "    <tr>\n",
       "      <th>24</th>\n",
       "      <td>bg</td>\n",
       "      <td>IT Гжо председател госпожи и господа признавам...</td>\n",
       "    </tr>\n",
       "    <tr>\n",
       "      <th>25</th>\n",
       "      <td>bg</td>\n",
       "      <td>IT Гжо председател госпожи и господа трябва вн...</td>\n",
       "    </tr>\n",
       "    <tr>\n",
       "      <th>26</th>\n",
       "      <td>bg</td>\n",
       "      <td>IT Гн председател госпожи и господа говоря от ...</td>\n",
       "    </tr>\n",
       "    <tr>\n",
       "      <th>27</th>\n",
       "      <td>bg</td>\n",
       "      <td>IT Гн председател госпожи и господа искам да з...</td>\n",
       "    </tr>\n",
       "    <tr>\n",
       "      <th>28</th>\n",
       "      <td>bg</td>\n",
       "      <td>IT Гн председател госпожи и господа мисля че с...</td>\n",
       "    </tr>\n",
       "    <tr>\n",
       "      <th>29</th>\n",
       "      <td>bg</td>\n",
       "      <td>NL Гн председател разбира се едно стратегическ...</td>\n",
       "    </tr>\n",
       "    <tr>\n",
       "      <th>...</th>\n",
       "      <td>...</td>\n",
       "      <td>...</td>\n",
       "    </tr>\n",
       "    <tr>\n",
       "      <th>20798</th>\n",
       "      <td>sv</td>\n",
       "      <td>– Junilistan är för ett ökat samarbete mellan ...</td>\n",
       "    </tr>\n",
       "    <tr>\n",
       "      <th>20799</th>\n",
       "      <td>sv</td>\n",
       "      <td>– Vi lever i en tidsålder med plötsliga teknis...</td>\n",
       "    </tr>\n",
       "    <tr>\n",
       "      <th>20800</th>\n",
       "      <td>sv</td>\n",
       "      <td>– Debatten är avslutad</td>\n",
       "    </tr>\n",
       "    <tr>\n",
       "      <th>20801</th>\n",
       "      <td>sv</td>\n",
       "      <td>– Herr talman De nationella och regionala parl...</td>\n",
       "    </tr>\n",
       "    <tr>\n",
       "      <th>20802</th>\n",
       "      <td>sv</td>\n",
       "      <td>– Herr talman Eftersom det är så ont om tid st...</td>\n",
       "    </tr>\n",
       "    <tr>\n",
       "      <th>20803</th>\n",
       "      <td>sv</td>\n",
       "      <td>– Herr talman I dag röstade jag emot rekommend...</td>\n",
       "    </tr>\n",
       "    <tr>\n",
       "      <th>20804</th>\n",
       "      <td>sv</td>\n",
       "      <td>– Herr talman PPEDEgruppen föreslog att frågan...</td>\n",
       "    </tr>\n",
       "    <tr>\n",
       "      <th>20805</th>\n",
       "      <td>sv</td>\n",
       "      <td>– Herr talman Under eftermiddagen har det sket...</td>\n",
       "    </tr>\n",
       "    <tr>\n",
       "      <th>20806</th>\n",
       "      <td>sv</td>\n",
       "      <td>– Herr talman Även om framsteg har gjorts i fö...</td>\n",
       "    </tr>\n",
       "    <tr>\n",
       "      <th>20807</th>\n",
       "      <td>sv</td>\n",
       "      <td>– Herr talman mina damer och herrar Som vi har...</td>\n",
       "    </tr>\n",
       "    <tr>\n",
       "      <th>20808</th>\n",
       "      <td>sv</td>\n",
       "      <td>– Jag tackar kommissionären för denna fullstän...</td>\n",
       "    </tr>\n",
       "    <tr>\n",
       "      <th>20809</th>\n",
       "      <td>sv</td>\n",
       "      <td>– Omröstningstiden är slut</td>\n",
       "    </tr>\n",
       "    <tr>\n",
       "      <th>20810</th>\n",
       "      <td>sv</td>\n",
       "      <td>Ändring av Europaparlamentets arbetsordning</td>\n",
       "    </tr>\n",
       "    <tr>\n",
       "      <th>20811</th>\n",
       "      <td>sv</td>\n",
       "      <td>Ändringsförslagen herr ordförande strävar inte...</td>\n",
       "    </tr>\n",
       "    <tr>\n",
       "      <th>20812</th>\n",
       "      <td>sv</td>\n",
       "      <td>Är det här umgängesformer som vi ska acceptera...</td>\n",
       "    </tr>\n",
       "    <tr>\n",
       "      <th>20813</th>\n",
       "      <td>sv</td>\n",
       "      <td>Är rådet för en tydlig solidaritet eller en di...</td>\n",
       "    </tr>\n",
       "    <tr>\n",
       "      <th>20814</th>\n",
       "      <td>sv</td>\n",
       "      <td>Även den nationella mexikanska kommittén för m...</td>\n",
       "    </tr>\n",
       "    <tr>\n",
       "      <th>20815</th>\n",
       "      <td>sv</td>\n",
       "      <td>Även inom detta område ligger tidsgränsen nära...</td>\n",
       "    </tr>\n",
       "    <tr>\n",
       "      <th>20816</th>\n",
       "      <td>sv</td>\n",
       "      <td>Även jag skulle vilja tacka föredraganden för ...</td>\n",
       "    </tr>\n",
       "    <tr>\n",
       "      <th>20817</th>\n",
       "      <td>sv</td>\n",
       "      <td>Även när det gäller stödprogrammen för utveckl...</td>\n",
       "    </tr>\n",
       "    <tr>\n",
       "      <th>20818</th>\n",
       "      <td>sv</td>\n",
       "      <td>Även om det hör till medlemsstaternas befogenh...</td>\n",
       "    </tr>\n",
       "    <tr>\n",
       "      <th>20819</th>\n",
       "      <td>sv</td>\n",
       "      <td>Även om man i den gemensamma ståndpunkten tog ...</td>\n",
       "    </tr>\n",
       "    <tr>\n",
       "      <th>20820</th>\n",
       "      <td>sv</td>\n",
       "      <td>Å andra sidan tillämpas nu vissa delar i konst...</td>\n",
       "    </tr>\n",
       "    <tr>\n",
       "      <th>20821</th>\n",
       "      <td>sv</td>\n",
       "      <td>Å ena sidan bör vi undvika att lägga ytterliga...</td>\n",
       "    </tr>\n",
       "    <tr>\n",
       "      <th>20822</th>\n",
       "      <td>sv</td>\n",
       "      <td>Å ena sidan erkänner man  för att hitta någont...</td>\n",
       "    </tr>\n",
       "    <tr>\n",
       "      <th>20823</th>\n",
       "      <td>sv</td>\n",
       "      <td>Å ena sidan lovordade han ordförandeskapet för...</td>\n",
       "    </tr>\n",
       "    <tr>\n",
       "      <th>20824</th>\n",
       "      <td>sv</td>\n",
       "      <td>Ångerrätten och reklambestämmelserna som gör d...</td>\n",
       "    </tr>\n",
       "    <tr>\n",
       "      <th>20825</th>\n",
       "      <td>sv</td>\n",
       "      <td>År  erbjuds vi möjligheter att förbättra det s...</td>\n",
       "    </tr>\n",
       "    <tr>\n",
       "      <th>20826</th>\n",
       "      <td>sv</td>\n",
       "      <td>Åtta är ett lyckotal i kinesisk kultur och för...</td>\n",
       "    </tr>\n",
       "    <tr>\n",
       "      <th>20827</th>\n",
       "      <td>sv</td>\n",
       "      <td>över våra gemensamma värden  frihet demokrati ...</td>\n",
       "    </tr>\n",
       "  </tbody>\n",
       "</table>\n",
       "<p>20828 rows × 2 columns</p>\n",
       "</div>"
      ],
      "text/plain": [
       "      Label_test                                          Data_test\n",
       "0             bg  Европа  не трябва да стартира нов конкурентен ...\n",
       "1             bg  CS Найголямата несправедливост на сегашната об...\n",
       "2             bg  DE Гжо председател гн член на Комисията по при...\n",
       "3             bg  DE Гн председател бих искал да започна с комен...\n",
       "4             bg  DE Гн председател въпросът за правата на човек...\n",
       "5             bg  DE Гн председател гласувах в подкрепа на Комис...\n",
       "6             bg  DE Гн председател госпожи и господа в каква по...\n",
       "7             bg  DE Гн председател госпожи и господа неотдавна ...\n",
       "8             bg  DE Гн председател след повече от  години колон...\n",
       "9             bg      EN Благодаря Ви Сара за сериозното съдействие\n",
       "10            bg  EN Благодаря на действащия председател за обст...\n",
       "11            bg  EN Гжо председател на фона на световната иконо...\n",
       "12            bg  EN Гжо председател няма никакъв проблем да отг...\n",
       "13            bg  EN Гжо член на Комисията с каква неотложност и...\n",
       "14            bg  EN Гн председател докладът за цените на хранит...\n",
       "15            bg  EN Гн председател подкрепих този доклад тъй ка...\n",
       "16            bg  EN Гн председател трябва да поправя гжа Joly в...\n",
       "17            bg  ES Гжо председател ако ще се опитваме да разбе...\n",
       "18            bg  ES Гн председател искам специално да поздравя ...\n",
       "19            bg  FR Гжо председател всъщност не исках да говоря...\n",
       "20            bg  FR Гн председател изправени сме пред два проблема\n",
       "21            bg  GA Гн председател бих искал да кажа че разбира...\n",
       "22            bg  IT Гжо председател госпожи и господа и аз като...\n",
       "23            bg  IT Гжо председател госпожи и господа неотдавна...\n",
       "24            bg  IT Гжо председател госпожи и господа признавам...\n",
       "25            bg  IT Гжо председател госпожи и господа трябва вн...\n",
       "26            bg  IT Гн председател госпожи и господа говоря от ...\n",
       "27            bg  IT Гн председател госпожи и господа искам да з...\n",
       "28            bg  IT Гн председател госпожи и господа мисля че с...\n",
       "29            bg  NL Гн председател разбира се едно стратегическ...\n",
       "...          ...                                                ...\n",
       "20798         sv  – Junilistan är för ett ökat samarbete mellan ...\n",
       "20799         sv  – Vi lever i en tidsålder med plötsliga teknis...\n",
       "20800         sv                             – Debatten är avslutad\n",
       "20801         sv  – Herr talman De nationella och regionala parl...\n",
       "20802         sv  – Herr talman Eftersom det är så ont om tid st...\n",
       "20803         sv  – Herr talman I dag röstade jag emot rekommend...\n",
       "20804         sv  – Herr talman PPEDEgruppen föreslog att frågan...\n",
       "20805         sv  – Herr talman Under eftermiddagen har det sket...\n",
       "20806         sv  – Herr talman Även om framsteg har gjorts i fö...\n",
       "20807         sv  – Herr talman mina damer och herrar Som vi har...\n",
       "20808         sv  – Jag tackar kommissionären för denna fullstän...\n",
       "20809         sv                         – Omröstningstiden är slut\n",
       "20810         sv        Ändring av Europaparlamentets arbetsordning\n",
       "20811         sv  Ändringsförslagen herr ordförande strävar inte...\n",
       "20812         sv  Är det här umgängesformer som vi ska acceptera...\n",
       "20813         sv  Är rådet för en tydlig solidaritet eller en di...\n",
       "20814         sv  Även den nationella mexikanska kommittén för m...\n",
       "20815         sv  Även inom detta område ligger tidsgränsen nära...\n",
       "20816         sv  Även jag skulle vilja tacka föredraganden för ...\n",
       "20817         sv  Även när det gäller stödprogrammen för utveckl...\n",
       "20818         sv  Även om det hör till medlemsstaternas befogenh...\n",
       "20819         sv  Även om man i den gemensamma ståndpunkten tog ...\n",
       "20820         sv  Å andra sidan tillämpas nu vissa delar i konst...\n",
       "20821         sv  Å ena sidan bör vi undvika att lägga ytterliga...\n",
       "20822         sv  Å ena sidan erkänner man  för att hitta någont...\n",
       "20823         sv  Å ena sidan lovordade han ordförandeskapet för...\n",
       "20824         sv  Ångerrätten och reklambestämmelserna som gör d...\n",
       "20825         sv  År  erbjuds vi möjligheter att förbättra det s...\n",
       "20826         sv  Åtta är ett lyckotal i kinesisk kultur och för...\n",
       "20827         sv  över våra gemensamma värden  frihet demokrati ...\n",
       "\n",
       "[20828 rows x 2 columns]"
      ]
     },
     "execution_count": 45,
     "metadata": {},
     "output_type": "execute_result"
    }
   ],
   "source": [
    "df_test"
   ]
  },
  {
   "cell_type": "code",
   "execution_count": 20,
   "metadata": {
    "collapsed": false
   },
   "outputs": [
    {
     "name": "stderr",
     "output_type": "stream",
     "text": [
      "C:\\Users\\Sathvik\\Anaconda3\\lib\\site-packages\\sklearn\\cross_validation.py:44: DeprecationWarning: This module was deprecated in version 0.18 in favor of the model_selection module into which all the refactored classes and functions are moved. Also note that the interface of the new CV iterators are different from that of this module. This module will be removed in 0.20.\n",
      "  \"This module will be removed in 0.20.\", DeprecationWarning)\n"
     ]
    }
   ],
   "source": [
    "import matplotlib.pyplot as plt\n",
    "import numpy as np\n",
    "import scipy\n",
    "import seaborn as sns\n",
    "\n",
    "from sklearn import ensemble\n",
    "from sklearn import feature_extraction\n",
    "from sklearn import linear_model\n",
    "from sklearn import pipeline\n",
    "from sklearn import cross_validation\n",
    "from sklearn import metrics"
   ]
  },
  {
   "cell_type": "markdown",
   "metadata": {},
   "source": [
    "# Model building and what worked and what could have worked!"
   ]
  },
  {
   "cell_type": "markdown",
   "metadata": {},
   "source": [
    "The most interesting part! I first took  linear logistic regression as my model for classification. Scikit learn has a beautiful way of wrapping everything in  a pipeline and building the model. \n",
    " \n"
   ]
  },
  {
   "cell_type": "markdown",
   "metadata": {},
   "source": [
    "When it comes to dealing with text, you need to convert to a group of vectors and then input to your model. Here I have chosen the tfidf vectorizer. More about tfidf vectorizer? http://www.markhneedham.com/blog/2015/02/15/pythonscikit-learn-calculating-tfidf-on-how-i-met-your-mother-transcripts/, Nice way to learn about it. \n",
    "I have used my anlayser to be character based as opposed to word based, the reason being some of these languages are very close to each other and it's best to use character based when using a language detection. \n"
   ]
  },
  {
   "cell_type": "code",
   "execution_count": 21,
   "metadata": {
    "collapsed": false
   },
   "outputs": [],
   "source": [
    "vectorizer = feature_extraction.text.TfidfVectorizer(ngram_range=(1, 6),\n",
    "                             analyzer='char',)\n",
    "\n",
    "\n",
    "pipe = pipeline.Pipeline([\n",
    "    ('vectorizer', vectorizer),\n",
    "    ('clf', linear_model.LogisticRegression())\n",
    "])"
   ]
  },
  {
   "cell_type": "code",
   "execution_count": 23,
   "metadata": {
    "collapsed": false
   },
   "outputs": [
    {
     "data": {
      "text/plain": [
       "Pipeline(steps=[('vectorizer', TfidfVectorizer(analyzer='char', binary=False, decode_error='strict',\n",
       "        dtype=<class 'numpy.int64'>, encoding='utf-8', input='content',\n",
       "        lowercase=True, max_df=1.0, max_features=None, min_df=1,\n",
       "        ngram_range=(1, 6), norm='l2', preprocessor=None, smooth_idf=Tr...ty='l2', random_state=None, solver='liblinear', tol=0.0001,\n",
       "          verbose=0, warm_start=False))])"
      ]
     },
     "execution_count": 23,
     "metadata": {},
     "output_type": "execute_result"
    }
   ],
   "source": [
    "pipe.fit(df[\"Data\"], df[\"Label\"])"
   ]
  },
  {
   "cell_type": "code",
   "execution_count": 24,
   "metadata": {
    "collapsed": false
   },
   "outputs": [],
   "source": [
    "y_predicted = pipe.predict(df_test[\"Data_test\"])\n"
   ]
  },
  {
   "cell_type": "code",
   "execution_count": 25,
   "metadata": {
    "collapsed": false
   },
   "outputs": [],
   "source": [
    "cm = metrics.confusion_matrix(df_test[\"Label_test\"], y_predicted)"
   ]
  },
  {
   "cell_type": "code",
   "execution_count": 46,
   "metadata": {
    "collapsed": false
   },
   "outputs": [],
   "source": [
    "a=(y_predicted==df_test[\"Label_test\"])"
   ]
  },
  {
   "cell_type": "code",
   "execution_count": 47,
   "metadata": {
    "collapsed": false
   },
   "outputs": [],
   "source": [
    "accuracy=sum(a)/len(a)"
   ]
  },
  {
   "cell_type": "markdown",
   "metadata": {},
   "source": [
    "Well, honeslty the model worked very well, a 97% accuracy, not bad at all. I have the classification report as shown below. \n"
   ]
  },
  {
   "cell_type": "code",
   "execution_count": 48,
   "metadata": {
    "collapsed": false
   },
   "outputs": [
    {
     "name": "stdout",
     "output_type": "stream",
     "text": [
      "             precision    recall  f1-score   support\n",
      "\n",
      "         bg       0.71      1.00      0.83      1000\n",
      "         cs       0.98      0.93      0.95      1000\n",
      "         da       0.98      0.97      0.98      1000\n",
      "         de       0.96      0.98      0.97      1000\n",
      "         el       0.96      1.00      0.98       992\n",
      "         en       1.00      0.95      0.98      1000\n",
      "         es       1.00      0.92      0.96      1000\n",
      "         et       0.99      0.92      0.96      1000\n",
      "         fi       0.93      0.98      0.96      1000\n",
      "         fr       1.00      0.96      0.98      1000\n",
      "         hu       0.99      0.96      0.98      1000\n",
      "         it       1.00      0.97      0.98      1000\n",
      "         lt       0.97      0.98      0.97      1000\n",
      "         lv       1.00      0.99      1.00       979\n",
      "         nl       0.97      0.98      0.97      1000\n",
      "         pt       1.00      0.97      0.98      1000\n",
      "         ro       0.94      0.99      0.97      1000\n",
      "         sk       0.99      0.99      0.99       928\n",
      "         sl       1.00      0.89      0.94       929\n",
      "         sv       1.00      0.95      0.97      1000\n",
      "         pl       0.99      0.96      0.98      1000\n",
      "\n",
      "avg / total       0.97      0.96      0.97     20828\n",
      "\n"
     ]
    }
   ],
   "source": [
    "print(metrics.classification_report(df_test[\"Label_test\"], y_predicted,\n",
    "                                    target_names=df[\"Label\"]))"
   ]
  },
  {
   "cell_type": "markdown",
   "metadata": {
    "collapsed": true
   },
   "source": [
    "# RESULTS AND OBSERVATIONS:"
   ]
  },
  {
   "cell_type": "markdown",
   "metadata": {},
   "source": [
    "\n",
    "The next model trained was using Random forests. It is a very robust and versatile model but it did not peform well obviously for a high sparse matrix. \n",
    "\n",
    "\n",
    "Off lately data science nerds are into Xgboost and I wanted to try my hands on it for text classification. It is a great algorithm,(adaboost algorithm- train weak classifiers inorder to obtain one strong classifier- ensemble methods)\n",
    "However, I tried running it a couple of times but was thrown \"Memory error\". "
   ]
  },
  {
   "cell_type": "markdown",
   "metadata": {},
   "source": [
    "Logistic regression did perform better. But as we can see here, the model was trained on a comparitively small set and there may be chances of overfitting the model which leads to this high accuracy.\n"
   ]
  },
  {
   "cell_type": "markdown",
   "metadata": {},
   "source": [
    "It is important to run this model on the Entire dataset and then test using the test set provided. Also I have handled this task with a character encoding as opposed to word encoding and would be thrilled to work \n",
    "on the word encoding had Memory error not been an issue."
   ]
  },
  {
   "cell_type": "markdown",
   "metadata": {},
   "source": [
    " Overall, the task was to detect the language and our model performs better for the short data set handled. As we know \"All models wrong and some models are useful\", we can expand this on various levels."
   ]
  },
  {
   "cell_type": "markdown",
   "metadata": {},
   "source": [
    "Key take aways to note on NLP: Try eliminating low information features, Work with Gridsearch to tune your hyperparamters, Add customized stop word list, Always try to remove punctuation marks and symbols, Try different corpus for the text data say extracting data from wikipedia.\n"
   ]
  },
  {
   "cell_type": "markdown",
   "metadata": {},
   "source": [
    "# Future Work:\n"
   ]
  },
  {
   "cell_type": "markdown",
   "metadata": {},
   "source": [
    "Work with Facebook's new Fasttext algorithm inorder to achieve better results but this works on shorter texts well. \n",
    "We can use CNN to perform classification task on NLP which is the new for NLP since CNN was majorly and primarly designed for images. \n",
    "This one would be definetely my future work. Refer: http://www.wildml.com/2015/12/implementing-a-cnn-for-text-classification-in-tensorflow/"
   ]
  },
  {
   "cell_type": "code",
   "execution_count": 65,
   "metadata": {
    "collapsed": true
   },
   "outputs": [],
   "source": [
    "#df_test_grouped=df_test.groupby('Label_test')['Data_test'].apply(' '.join).reset_index()"
   ]
  },
  {
   "cell_type": "code",
   "execution_count": 51,
   "metadata": {
    "collapsed": false
   },
   "outputs": [],
   "source": [
    "#y_predicted_grouped=pipe.predict(df_test_grouped[\"Data_test\"])"
   ]
  },
  {
   "cell_type": "markdown",
   "metadata": {},
   "source": [
    "# Uncomment the following to execute Xgboost Classifier "
   ]
  },
  {
   "cell_type": "code",
   "execution_count": 61,
   "metadata": {
    "collapsed": false
   },
   "outputs": [],
   "source": [
    "#import xgboost as xgb"
   ]
  },
  {
   "cell_type": "code",
   "execution_count": 62,
   "metadata": {
    "collapsed": false
   },
   "outputs": [],
   "source": [
    "#from xgboost.sklearn import XGBClassifier"
   ]
  },
  {
   "cell_type": "code",
   "execution_count": 63,
   "metadata": {
    "collapsed": false
   },
   "outputs": [],
   "source": [
    "#vectorizer = feature_extraction.text.TfidfVectorizer(ngram_range=(1, 6),analyzer='char',)\n",
    "\n",
    "#pipe_xgb = pipeline.Pipeline([('vectorizer', vectorizer),('clf',  XGBClassifier())])"
   ]
  },
  {
   "cell_type": "code",
   "execution_count": 60,
   "metadata": {
    "collapsed": false
   },
   "outputs": [],
   "source": [
    "#pipe_xgb.fit(df[\"Data\"], df[\"Label\"])"
   ]
  },
  {
   "cell_type": "markdown",
   "metadata": {
    "collapsed": false
   },
   "source": []
  }
 ],
 "metadata": {
  "kernelspec": {
   "display_name": "Python 3",
   "language": "python",
   "name": "python3"
  },
  "language_info": {
   "codemirror_mode": {
    "name": "ipython",
    "version": 3
   },
   "file_extension": ".py",
   "mimetype": "text/x-python",
   "name": "python",
   "nbconvert_exporter": "python",
   "pygments_lexer": "ipython3",
   "version": "3.6.0"
  }
 },
 "nbformat": 4,
 "nbformat_minor": 2
}
